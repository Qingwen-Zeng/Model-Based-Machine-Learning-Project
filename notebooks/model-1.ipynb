{
 "cells": [
  {
   "cell_type": "code",
   "execution_count": 7,
   "id": "68d2b0cc",
   "metadata": {},
   "outputs": [],
   "source": [
    "import pandas as pd\n",
    "import os"
   ]
  },
  {
   "cell_type": "code",
   "execution_count": 8,
   "id": "38f38dc0",
   "metadata": {},
   "outputs": [],
   "source": [
    "# Specify the data folder\n",
    "data_folder = \"./../processed_data\"\n",
    "\n",
    "# Read each CSV file into a separate DataFrame\n",
    "df = pd.read_csv(os.path.join(data_folder, 'games.csv'))"
   ]
  },
  {
   "cell_type": "markdown",
   "id": "f414bfdd",
   "metadata": {},
   "source": [
    "# Baseline"
   ]
  },
  {
   "cell_type": "code",
   "execution_count": 9,
   "id": "4b21f20d",
   "metadata": {},
   "outputs": [
    {
     "name": "stdout",
     "output_type": "stream",
     "text": [
      "MAE: 4440.49\n",
      "MDAE: 3147.47\n",
      "RMSE: 6461.32\n"
     ]
    },
    {
     "name": "stderr",
     "output_type": "stream",
     "text": [
      "c:\\ProgramData\\anaconda3\\Lib\\site-packages\\sklearn\\metrics\\_regression.py:492: FutureWarning: 'squared' is deprecated in version 1.4 and will be removed in 1.6. To calculate the root mean squared error, use the function'root_mean_squared_error'.\n",
      "  warnings.warn(\n"
     ]
    }
   ],
   "source": [
    "from sklearn.metrics import mean_absolute_error, mean_squared_error\n",
    "import numpy as np\n",
    "\n",
    "mae = mean_absolute_error(df[\"weekly_attendance\"], df[\"avg_season_attendance_prev\"])\n",
    "rmse = mean_squared_error(df[\"weekly_attendance\"], df[\"avg_season_attendance_prev\"], squared=False)\n",
    "mdae = np.median(np.abs(df[\"weekly_attendance\"] - df[\"avg_season_attendance_prev\"]))\n",
    "\n",
    "print(f\"MAE: {mae:.2f}\")\n",
    "print(f\"MDAE: {mdae:.2f}\")\n",
    "print(f\"RMSE: {rmse:.2f}\")"
   ]
  },
  {
   "cell_type": "markdown",
   "id": "786f65f4",
   "metadata": {},
   "source": [
    "# Model"
   ]
  },
  {
   "cell_type": "code",
   "execution_count": 10,
   "id": "144fbab6",
   "metadata": {},
   "outputs": [
    {
     "data": {
      "text/plain": [
       "Index(['year', 'week', 'home_team_name', 'away_team_name', 'day', 'date',\n",
       "       'time', 'weekly_attendance', 'weekly_attendance_ratio',\n",
       "       'prev_game_attendance', 'avg_season_attendance_prev',\n",
       "       'home_team_superbowl_winner_last_season',\n",
       "       'away_team_superbowl_winner_last_season',\n",
       "       'home_team_playoffs_last_season', 'away_team_playoffs_last_season',\n",
       "       'home_team_wins_last_3', 'away_team_wins_last_3', 'pts_home',\n",
       "       'pts_away', 'yds_home', 'yds_away', 'turnovers_home', 'turnovers_away',\n",
       "       'zscore_pts_home', 'zscore_yds_home', 'zscore_turnovers_home',\n",
       "       'zscore_pts_away', 'zscore_yds_away', 'zscore_turnovers_away'],\n",
       "      dtype='object')"
      ]
     },
     "execution_count": 10,
     "metadata": {},
     "output_type": "execute_result"
    }
   ],
   "source": [
    "df.columns"
   ]
  },
  {
   "cell_type": "code",
   "execution_count": 15,
   "id": "d85cf461",
   "metadata": {},
   "outputs": [],
   "source": [
    "import torch\n",
    "import pyro\n",
    "import pyro.distributions as dist\n",
    "from pyro.nn import PyroModule, PyroSample\n",
    "from pyro.infer import SVI, Trace_ELBO\n",
    "from pyro.infer.autoguide import AutoNormal\n",
    "from pyro.optim import ClippedAdam\n",
    "\n",
    "class LatentAttendanceModel(PyroModule):\n",
    "    def __init__(self, x_dim, T):\n",
    "        super().__init__()\n",
    "        self.x_dim = x_dim\n",
    "        self.T = T\n",
    "\n",
    "    def model(self, y, x, avg_attendance, z_lag):\n",
    "        tau = pyro.sample(\"tau\", dist.HalfNormal(10.0))\n",
    "        sigma = pyro.sample(\"sigma\", dist.HalfNormal(10.0))\n",
    "\n",
    "        beta_0 = pyro.sample(\"beta_0\", dist.Normal(0., 10.))\n",
    "        beta_1 = pyro.sample(\"beta_1\", dist.Normal(0., 1.))  # autoregressive effect\n",
    "        beta_avg = pyro.sample(\"beta_avg\", dist.Normal(1., 0.1))\n",
    "        beta_x = pyro.sample(\"beta_x\", dist.Normal(0., 1.).expand([self.x_dim]).to_event(1))\n",
    "\n",
    "        z = torch.zeros(self.T)\n",
    "\n",
    "        for t in range(self.T):\n",
    "            x_t = x[t]\n",
    "            if t == 0:\n",
    "                z_prev = z_lag[t]  # could also just set to 0\n",
    "            else:\n",
    "                z_prev = z[t - 1]\n",
    "\n",
    "            mu_z = beta_0 + beta_1 * z_prev + beta_avg * avg_attendance[t] + torch.dot(x_t, beta_x)\n",
    "            z[t] = pyro.sample(f\"z_{t}\", dist.Normal(mu_z, tau))\n",
    "\n",
    "            pyro.sample(f\"y_{t}\", dist.Normal(z[t], sigma), obs=y[t])\n"
   ]
  },
  {
   "cell_type": "code",
   "execution_count": 16,
   "id": "6790c360",
   "metadata": {},
   "outputs": [
    {
     "ename": "TypeError",
     "evalue": "can't convert np.ndarray of type numpy.object_. The only supported types are: float64, float32, float16, complex64, complex128, int64, int32, int16, int8, uint64, uint32, uint16, uint8, and bool.",
     "output_type": "error",
     "traceback": [
      "\u001b[1;31m---------------------------------------------------------------------------\u001b[0m",
      "\u001b[1;31mTypeError\u001b[0m                                 Traceback (most recent call last)",
      "Cell \u001b[1;32mIn[16], line 3\u001b[0m\n\u001b[0;32m      1\u001b[0m \u001b[38;5;66;03m# Convert your data to torch tensors\u001b[39;00m\n\u001b[0;32m      2\u001b[0m y_tensor \u001b[38;5;241m=\u001b[39m torch\u001b[38;5;241m.\u001b[39mtensor(df[\u001b[38;5;124m\"\u001b[39m\u001b[38;5;124mweekly_attendance\u001b[39m\u001b[38;5;124m\"\u001b[39m]\u001b[38;5;241m.\u001b[39mvalues, dtype\u001b[38;5;241m=\u001b[39mtorch\u001b[38;5;241m.\u001b[39mfloat32)\n\u001b[1;32m----> 3\u001b[0m x_tensor \u001b[38;5;241m=\u001b[39m torch\u001b[38;5;241m.\u001b[39mtensor(df[[\n\u001b[0;32m      4\u001b[0m     \u001b[38;5;124m\"\u001b[39m\u001b[38;5;124maway_team_superbowl_winner_last_season\u001b[39m\u001b[38;5;124m\"\u001b[39m,\n\u001b[0;32m      5\u001b[0m     \u001b[38;5;124m\"\u001b[39m\u001b[38;5;124mhome_team_playoffs_last_season\u001b[39m\u001b[38;5;124m\"\u001b[39m,\n\u001b[0;32m      6\u001b[0m     \u001b[38;5;124m\"\u001b[39m\u001b[38;5;124maway_team_playoffs_last_season\u001b[39m\u001b[38;5;124m\"\u001b[39m,\n\u001b[0;32m      7\u001b[0m     \u001b[38;5;124m\"\u001b[39m\u001b[38;5;124mhome_team_wins_last_3\u001b[39m\u001b[38;5;124m\"\u001b[39m,\n\u001b[0;32m      8\u001b[0m     \u001b[38;5;124m\"\u001b[39m\u001b[38;5;124maway_team_wins_last_3\u001b[39m\u001b[38;5;124m\"\u001b[39m,\n\u001b[0;32m      9\u001b[0m     \u001b[38;5;124m'\u001b[39m\u001b[38;5;124mzscore_pts_home\u001b[39m\u001b[38;5;124m'\u001b[39m, \u001b[38;5;124m'\u001b[39m\u001b[38;5;124mzscore_yds_home\u001b[39m\u001b[38;5;124m'\u001b[39m, \u001b[38;5;124m'\u001b[39m\u001b[38;5;124mzscore_turnovers_home\u001b[39m\u001b[38;5;124m'\u001b[39m,\n\u001b[0;32m     10\u001b[0m     \u001b[38;5;124m'\u001b[39m\u001b[38;5;124mzscore_pts_away\u001b[39m\u001b[38;5;124m'\u001b[39m, \u001b[38;5;124m'\u001b[39m\u001b[38;5;124mzscore_yds_away\u001b[39m\u001b[38;5;124m'\u001b[39m, \u001b[38;5;124m'\u001b[39m\u001b[38;5;124mzscore_turnovers_away\u001b[39m\u001b[38;5;124m'\u001b[39m\n\u001b[0;32m     11\u001b[0m ]]\u001b[38;5;241m.\u001b[39mvalues, dtype\u001b[38;5;241m=\u001b[39mtorch\u001b[38;5;241m.\u001b[39mfloat32)\n\u001b[0;32m     13\u001b[0m avg_att_tensor \u001b[38;5;241m=\u001b[39m torch\u001b[38;5;241m.\u001b[39mtensor(df[\u001b[38;5;124m\"\u001b[39m\u001b[38;5;124mavg_season_attendance_prev\u001b[39m\u001b[38;5;124m\"\u001b[39m]\u001b[38;5;241m.\u001b[39mvalues, dtype\u001b[38;5;241m=\u001b[39mtorch\u001b[38;5;241m.\u001b[39mfloat32)\n\u001b[0;32m     14\u001b[0m z_lag_tensor \u001b[38;5;241m=\u001b[39m torch\u001b[38;5;241m.\u001b[39mtensor(df[\u001b[38;5;124m\"\u001b[39m\u001b[38;5;124mprev_game_attendance\u001b[39m\u001b[38;5;124m\"\u001b[39m]\u001b[38;5;241m.\u001b[39mvalues, dtype\u001b[38;5;241m=\u001b[39mtorch\u001b[38;5;241m.\u001b[39mfloat32)\n",
      "\u001b[1;31mTypeError\u001b[0m: can't convert np.ndarray of type numpy.object_. The only supported types are: float64, float32, float16, complex64, complex128, int64, int32, int16, int8, uint64, uint32, uint16, uint8, and bool."
     ]
    }
   ],
   "source": [
    "# Convert your data to torch tensors\n",
    "y_tensor = torch.tensor(df[\"weekly_attendance\"].values, dtype=torch.float32)\n",
    "x_tensor = torch.tensor(df[[\n",
    "    \"away_team_superbowl_winner_last_season\",\n",
    "    \"home_team_playoffs_last_season\",\n",
    "    \"away_team_playoffs_last_season\",\n",
    "    \"home_team_wins_last_3\",\n",
    "    \"away_team_wins_last_3\",\n",
    "    'zscore_pts_home', 'zscore_yds_home', 'zscore_turnovers_home',\n",
    "    'zscore_pts_away', 'zscore_yds_away', 'zscore_turnovers_away'\n",
    "]].values, dtype=torch.float32)\n",
    "\n",
    "avg_att_tensor = torch.tensor(df[\"avg_season_attendance_prev\"].values, dtype=torch.float32)\n",
    "z_lag_tensor = torch.tensor(df[\"prev_game_attendance\"].values, dtype=torch.float32)\n",
    "\n",
    "T = len(y_tensor)\n",
    "x_dim = x_tensor.shape[1]\n",
    "\n",
    "# Define model\n",
    "model = LatentAttendanceModel(x_dim=x_dim, T=T)\n",
    "\n",
    "# AutoGuide for variational inference\n",
    "guide = AutoNormal(model.model)\n",
    "\n",
    "# Optimizer and SVI\n",
    "optimizer = ClippedAdam({\"lr\": 0.01})\n",
    "svi = SVI(model.model, guide, optimizer, loss=Trace_ELBO())\n",
    "\n",
    "# Training loop\n",
    "num_steps = 2000\n",
    "for step in range(num_steps):\n",
    "    loss = svi.step(y_tensor, x_tensor, avg_att_tensor, z_lag_tensor)\n",
    "    if step % 200 == 0:\n",
    "        print(f\"Step {step} - ELBO: {loss:.2f}\")\n"
   ]
  }
 ],
 "metadata": {
  "kernelspec": {
   "display_name": "base",
   "language": "python",
   "name": "python3"
  },
  "language_info": {
   "codemirror_mode": {
    "name": "ipython",
    "version": 3
   },
   "file_extension": ".py",
   "mimetype": "text/x-python",
   "name": "python",
   "nbconvert_exporter": "python",
   "pygments_lexer": "ipython3",
   "version": "3.12.3"
  }
 },
 "nbformat": 4,
 "nbformat_minor": 5
}
