{
 "cells": [
  {
   "cell_type": "code",
   "execution_count": 5,
   "id": "68d2b0cc",
   "metadata": {},
   "outputs": [],
   "source": [
    "import pandas as pd\n",
    "import os"
   ]
  },
  {
   "cell_type": "code",
   "execution_count": 7,
   "id": "38f38dc0",
   "metadata": {},
   "outputs": [],
   "source": [
    "# Specify the data folder\n",
    "data_folder = \"./../processed_data\"\n",
    "\n",
    "# Read each CSV file into a separate DataFrame\n",
    "df = pd.read_csv(os.path.join(data_folder, 'games.csv'))"
   ]
  },
  {
   "cell_type": "code",
   "execution_count": null,
   "id": "4b21f20d",
   "metadata": {},
   "outputs": [],
   "source": []
  }
 ],
 "metadata": {
  "kernelspec": {
   "display_name": "base",
   "language": "python",
   "name": "python3"
  },
  "language_info": {
   "codemirror_mode": {
    "name": "ipython",
    "version": 3
   },
   "file_extension": ".py",
   "mimetype": "text/x-python",
   "name": "python",
   "nbconvert_exporter": "python",
   "pygments_lexer": "ipython3",
   "version": "3.12.3"
  }
 },
 "nbformat": 4,
 "nbformat_minor": 5
}
