{
 "cells": [
  {
   "cell_type": "code",
   "execution_count": 1,
   "id": "68d2b0cc",
   "metadata": {},
   "outputs": [],
   "source": [
    "import pandas as pd\n",
    "import os"
   ]
  },
  {
   "cell_type": "code",
   "execution_count": 2,
   "id": "38f38dc0",
   "metadata": {},
   "outputs": [],
   "source": [
    "# Specify the data folder\n",
    "data_folder = \"./../processed_data\"\n",
    "\n",
    "# Read each CSV file into a separate DataFrame\n",
    "df = pd.read_csv(os.path.join(data_folder, 'games.csv'))"
   ]
  },
  {
   "cell_type": "markdown",
   "id": "f414bfdd",
   "metadata": {},
   "source": [
    "# Baseline"
   ]
  },
  {
   "cell_type": "code",
   "execution_count": 3,
   "id": "4b21f20d",
   "metadata": {},
   "outputs": [
    {
     "name": "stdout",
     "output_type": "stream",
     "text": [
      "MAE: 4440.49\n",
      "MDAE: 3147.47\n",
      "RMSE: 6461.32\n"
     ]
    },
    {
     "name": "stderr",
     "output_type": "stream",
     "text": [
      "c:\\ProgramData\\anaconda3\\Lib\\site-packages\\sklearn\\metrics\\_regression.py:492: FutureWarning: 'squared' is deprecated in version 1.4 and will be removed in 1.6. To calculate the root mean squared error, use the function'root_mean_squared_error'.\n",
      "  warnings.warn(\n"
     ]
    }
   ],
   "source": [
    "from sklearn.metrics import mean_absolute_error, mean_squared_error\n",
    "import numpy as np\n",
    "\n",
    "\n",
    "\n",
    "mae = mean_absolute_error(df[\"weekly_attendance\"], df[\"avg_season_attendance_prev\"])\n",
    "rmse = mean_squared_error(df[\"weekly_attendance\"], df[\"avg_season_attendance_prev\"], squared=False)\n",
    "mdae = np.median(np.abs(df[\"weekly_attendance\"] - df[\"avg_season_attendance_prev\"]))\n",
    "\n",
    "print(f\"MAE: {mae:.2f}\")\n",
    "print(f\"MDAE: {mdae:.2f}\")\n",
    "print(f\"RMSE: {rmse:.2f}\")\n"
   ]
  }
 ],
 "metadata": {
  "kernelspec": {
   "display_name": "base",
   "language": "python",
   "name": "python3"
  },
  "language_info": {
   "codemirror_mode": {
    "name": "ipython",
    "version": 3
   },
   "file_extension": ".py",
   "mimetype": "text/x-python",
   "name": "python",
   "nbconvert_exporter": "python",
   "pygments_lexer": "ipython3",
   "version": "3.12.3"
  }
 },
 "nbformat": 4,
 "nbformat_minor": 5
}
