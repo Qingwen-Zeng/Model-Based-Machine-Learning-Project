{
 "cells": [
  {
   "cell_type": "code",
   "execution_count": 1,
   "id": "981dd889",
   "metadata": {},
   "outputs": [],
   "source": [
    "import torch\n",
    "import pyro\n",
    "import pyro.distributions as dist\n",
    "import pyro.poutine as poutine\n",
    "from pyro.contrib.examples.bart import load_bart_od\n",
    "from pyro.contrib.forecast import ForecastingModel, Forecaster, backtest, eval_crps\n",
    "from pyro.infer.reparam import LocScaleReparam, StableReparam\n",
    "from pyro.ops.tensor_utils import periodic_cumsum, periodic_repeat, periodic_features\n",
    "from pyro.ops.stats import quantile\n",
    "import matplotlib.pyplot as plt\n",
    "\n",
    "%matplotlib inline\n",
    "assert pyro.__version__.startswith('1.9.1')\n",
    "pyro.set_rng_seed(20200221)"
   ]
  },
  {
   "cell_type": "code",
   "execution_count": 3,
   "id": "f423068a",
   "metadata": {},
   "outputs": [
    {
     "ename": "URLError",
     "evalue": "<urlopen error [WinError 10060] Se produjo un error durante el intento de conexión ya que la parte conectada no respondió adecuadamente tras un periodo de tiempo, o bien se produjo un error en la conexión establecida ya que el host conectado no ha podido responder>",
     "output_type": "error",
     "traceback": [
      "\u001b[1;31m---------------------------------------------------------------------------\u001b[0m",
      "\u001b[1;31mRemoteTraceback\u001b[0m                           Traceback (most recent call last)",
      "\u001b[1;31mRemoteTraceback\u001b[0m: \n\"\"\"\nTraceback (most recent call last):\n  File \"c:\\ProgramData\\anaconda3\\Lib\\urllib\\request.py\", line 1344, in do_open\n    h.request(req.get_method(), req.selector, req.data, headers,\n  File \"c:\\ProgramData\\anaconda3\\Lib\\http\\client.py\", line 1336, in request\n    self._send_request(method, url, body, headers, encode_chunked)\n  File \"c:\\ProgramData\\anaconda3\\Lib\\http\\client.py\", line 1382, in _send_request\n    self.endheaders(body, encode_chunked=encode_chunked)\n  File \"c:\\ProgramData\\anaconda3\\Lib\\http\\client.py\", line 1331, in endheaders\n    self._send_output(message_body, encode_chunked=encode_chunked)\n  File \"c:\\ProgramData\\anaconda3\\Lib\\http\\client.py\", line 1091, in _send_output\n    self.send(msg)\n  File \"c:\\ProgramData\\anaconda3\\Lib\\http\\client.py\", line 1035, in send\n    self.connect()\n  File \"c:\\ProgramData\\anaconda3\\Lib\\http\\client.py\", line 1001, in connect\n    self.sock = self._create_connection(\n                ^^^^^^^^^^^^^^^^^^^^^^^^\n  File \"c:\\ProgramData\\anaconda3\\Lib\\socket.py\", line 852, in create_connection\n    raise exceptions[0]\n  File \"c:\\ProgramData\\anaconda3\\Lib\\socket.py\", line 837, in create_connection\n    sock.connect(sa)\nTimeoutError: [WinError 10060] Se produjo un error durante el intento de conexión ya que la parte conectada no respondió adecuadamente tras un periodo de tiempo, o bien se produjo un error en la conexión establecida ya que el host conectado no ha podido responder\n\nDuring handling of the above exception, another exception occurred:\n\nTraceback (most recent call last):\n  File \"c:\\ProgramData\\anaconda3\\Lib\\multiprocessing\\pool.py\", line 125, in worker\n    result = (True, func(*args, **kwds))\n                    ^^^^^^^^^^^^^^^^^^^\n  File \"c:\\ProgramData\\anaconda3\\Lib\\multiprocessing\\pool.py\", line 48, in mapstar\n    return list(map(*args))\n           ^^^^^^^^^^^^^^^^\n  File \"c:\\ProgramData\\anaconda3\\Lib\\site-packages\\pyro\\contrib\\examples\\bart.py\", line 47, in _load_hourly_od\n    urllib.request.urlretrieve(url, gz_filename)\n  File \"c:\\ProgramData\\anaconda3\\Lib\\urllib\\request.py\", line 240, in urlretrieve\n    with contextlib.closing(urlopen(url, data)) as fp:\n                            ^^^^^^^^^^^^^^^^^^\n  File \"c:\\ProgramData\\anaconda3\\Lib\\urllib\\request.py\", line 215, in urlopen\n    return opener.open(url, data, timeout)\n           ^^^^^^^^^^^^^^^^^^^^^^^^^^^^^^^\n  File \"c:\\ProgramData\\anaconda3\\Lib\\urllib\\request.py\", line 515, in open\n    response = self._open(req, data)\n               ^^^^^^^^^^^^^^^^^^^^^\n  File \"c:\\ProgramData\\anaconda3\\Lib\\urllib\\request.py\", line 532, in _open\n    result = self._call_chain(self.handle_open, protocol, protocol +\n             ^^^^^^^^^^^^^^^^^^^^^^^^^^^^^^^^^^^^^^^^^^^^^^^^^^^^^^^\n  File \"c:\\ProgramData\\anaconda3\\Lib\\urllib\\request.py\", line 492, in _call_chain\n    result = func(*args)\n             ^^^^^^^^^^^\n  File \"c:\\ProgramData\\anaconda3\\Lib\\urllib\\request.py\", line 1373, in http_open\n    return self.do_open(http.client.HTTPConnection, req)\n           ^^^^^^^^^^^^^^^^^^^^^^^^^^^^^^^^^^^^^^^^^^^^^\n  File \"c:\\ProgramData\\anaconda3\\Lib\\urllib\\request.py\", line 1347, in do_open\n    raise URLError(err)\nurllib.error.URLError: <urlopen error [WinError 10060] Se produjo un error durante el intento de conexión ya que la parte conectada no respondió adecuadamente tras un periodo de tiempo, o bien se produjo un error en la conexión establecida ya que el host conectado no ha podido responder>\n\"\"\"",
      "\nThe above exception was the direct cause of the following exception:\n",
      "\u001b[1;31mURLError\u001b[0m                                  Traceback (most recent call last)",
      "Cell \u001b[1;32mIn[3], line 1\u001b[0m\n\u001b[1;32m----> 1\u001b[0m dataset \u001b[38;5;241m=\u001b[39m load_bart_od()\n\u001b[0;32m      2\u001b[0m \u001b[38;5;28mprint\u001b[39m(dataset\u001b[38;5;241m.\u001b[39mkeys())\n\u001b[0;32m      3\u001b[0m \u001b[38;5;28mprint\u001b[39m(dataset[\u001b[38;5;124m\"\u001b[39m\u001b[38;5;124mcounts\u001b[39m\u001b[38;5;124m\"\u001b[39m]\u001b[38;5;241m.\u001b[39mshape)\n",
      "File \u001b[1;32mc:\\ProgramData\\anaconda3\\Lib\\site-packages\\pyro\\contrib\\examples\\bart.py:125\u001b[0m, in \u001b[0;36mload_bart_od\u001b[1;34m()\u001b[0m\n\u001b[0;32m    122\u001b[0m \u001b[38;5;28;01mif\u001b[39;00m os\u001b[38;5;241m.\u001b[39mpath\u001b[38;5;241m.\u001b[39mexists(pkl_file):\n\u001b[0;32m    123\u001b[0m     \u001b[38;5;28;01mreturn\u001b[39;00m torch\u001b[38;5;241m.\u001b[39mload(pkl_file)\n\u001b[1;32m--> 125\u001b[0m filenames \u001b[38;5;241m=\u001b[39m multiprocessing\u001b[38;5;241m.\u001b[39mPool(\u001b[38;5;28mlen\u001b[39m(SOURCE_FILES))\u001b[38;5;241m.\u001b[39mmap(\n\u001b[0;32m    126\u001b[0m     _load_hourly_od, SOURCE_FILES\n\u001b[0;32m    127\u001b[0m )\n\u001b[0;32m    128\u001b[0m datasets \u001b[38;5;241m=\u001b[39m \u001b[38;5;28mlist\u001b[39m(\u001b[38;5;28mmap\u001b[39m(torch\u001b[38;5;241m.\u001b[39mload, filenames))\n\u001b[0;32m    130\u001b[0m stations \u001b[38;5;241m=\u001b[39m \u001b[38;5;28msorted\u001b[39m(\u001b[38;5;28mset\u001b[39m()\u001b[38;5;241m.\u001b[39munion(\u001b[38;5;241m*\u001b[39m(d[\u001b[38;5;124m\"\u001b[39m\u001b[38;5;124mstations\u001b[39m\u001b[38;5;124m\"\u001b[39m]\u001b[38;5;241m.\u001b[39mkeys() \u001b[38;5;28;01mfor\u001b[39;00m d \u001b[38;5;129;01min\u001b[39;00m datasets)))\n",
      "File \u001b[1;32mc:\\ProgramData\\anaconda3\\Lib\\multiprocessing\\pool.py:367\u001b[0m, in \u001b[0;36mPool.map\u001b[1;34m(self, func, iterable, chunksize)\u001b[0m\n\u001b[0;32m    362\u001b[0m \u001b[38;5;28;01mdef\u001b[39;00m \u001b[38;5;21mmap\u001b[39m(\u001b[38;5;28mself\u001b[39m, func, iterable, chunksize\u001b[38;5;241m=\u001b[39m\u001b[38;5;28;01mNone\u001b[39;00m):\n\u001b[0;32m    363\u001b[0m \u001b[38;5;250m    \u001b[39m\u001b[38;5;124;03m'''\u001b[39;00m\n\u001b[0;32m    364\u001b[0m \u001b[38;5;124;03m    Apply `func` to each element in `iterable`, collecting the results\u001b[39;00m\n\u001b[0;32m    365\u001b[0m \u001b[38;5;124;03m    in a list that is returned.\u001b[39;00m\n\u001b[0;32m    366\u001b[0m \u001b[38;5;124;03m    '''\u001b[39;00m\n\u001b[1;32m--> 367\u001b[0m     \u001b[38;5;28;01mreturn\u001b[39;00m \u001b[38;5;28mself\u001b[39m\u001b[38;5;241m.\u001b[39m_map_async(func, iterable, mapstar, chunksize)\u001b[38;5;241m.\u001b[39mget()\n",
      "File \u001b[1;32mc:\\ProgramData\\anaconda3\\Lib\\multiprocessing\\pool.py:774\u001b[0m, in \u001b[0;36mApplyResult.get\u001b[1;34m(self, timeout)\u001b[0m\n\u001b[0;32m    772\u001b[0m     \u001b[38;5;28;01mreturn\u001b[39;00m \u001b[38;5;28mself\u001b[39m\u001b[38;5;241m.\u001b[39m_value\n\u001b[0;32m    773\u001b[0m \u001b[38;5;28;01melse\u001b[39;00m:\n\u001b[1;32m--> 774\u001b[0m     \u001b[38;5;28;01mraise\u001b[39;00m \u001b[38;5;28mself\u001b[39m\u001b[38;5;241m.\u001b[39m_value\n",
      "\u001b[1;31mURLError\u001b[0m: <urlopen error [WinError 10060] Se produjo un error durante el intento de conexión ya que la parte conectada no respondió adecuadamente tras un periodo de tiempo, o bien se produjo un error en la conexión establecida ya que el host conectado no ha podido responder>"
     ]
    }
   ],
   "source": [
    "dataset = load_bart_od()\n",
    "print(dataset.keys())\n",
    "print(dataset[\"counts\"].shape)\n",
    "print(\" \".join(dataset[\"stations\"]))"
   ]
  },
  {
   "cell_type": "code",
   "execution_count": null,
   "id": "16bb5e61",
   "metadata": {},
   "outputs": [],
   "source": [
    "T, O, D = dataset[\"counts\"].shape\n",
    "data = dataset[\"counts\"][:T // (24 * 7) * 24 * 7].reshape(T // (24 * 7), -1).sum(-1).log()\n",
    "data = data.unsqueeze(-1)\n",
    "plt.figure(figsize=(9, 3))\n",
    "plt.plot(data)\n",
    "plt.title(\"Total weekly ridership\")\n",
    "plt.ylabel(\"log(# rides)\")\n",
    "plt.xlabel(\"Week after 2011-01-01\")\n",
    "plt.xlim(0, len(data));"
   ]
  }
 ],
 "metadata": {
  "kernelspec": {
   "display_name": "base",
   "language": "python",
   "name": "python3"
  },
  "language_info": {
   "codemirror_mode": {
    "name": "ipython",
    "version": 3
   },
   "file_extension": ".py",
   "mimetype": "text/x-python",
   "name": "python",
   "nbconvert_exporter": "python",
   "pygments_lexer": "ipython3",
   "version": "3.12.3"
  }
 },
 "nbformat": 4,
 "nbformat_minor": 5
}
